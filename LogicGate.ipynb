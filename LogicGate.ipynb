{
 "cells": [
  {
   "cell_type": "code",
   "execution_count": 49,
   "metadata": {},
   "outputs": [],
   "source": [
    "import numpy as np"
   ]
  },
  {
   "cell_type": "code",
   "execution_count": 50,
   "metadata": {},
   "outputs": [],
   "source": [
    "#Sigmoid function and it's derivative\n",
    "def sigmoid(z):\n",
    "    return 1/(1+np.exp(-z))\n",
    "def d_sigmoid(z):\n",
    "    return z*(1-z)"
   ]
  },
  {
   "cell_type": "code",
   "execution_count": 180,
   "metadata": {},
   "outputs": [],
   "source": [
    "#Setting the values of hyper parameters\n",
    "epochs = 10000\n",
    "alpha = 0.2\n",
    "input_size, hidden_size, output_size = 2,20,1"
   ]
  },
  {
   "cell_type": "code",
   "execution_count": 181,
   "metadata": {},
   "outputs": [],
   "source": [
    "#Randomly initialising weights and biases\n",
    "W1 = np.random.uniform(size=(input_size,hidden_size))\n",
    "B1 = np.random.uniform(size=(1,hidden_size))\n",
    "W2 = np.random.uniform(size=(hidden_size,output_size))\n",
    "B2 = np.random.uniform(size=(1,output_size))"
   ]
  },
  {
   "cell_type": "code",
   "execution_count": 182,
   "metadata": {},
   "outputs": [],
   "source": [
    "#Input and expected output arrays\n",
    "X = np.array([[0,0],[0,1],[1,0],[1,1]])\n",
    "y = np.array([[1],[0],[0],[1]])"
   ]
  },
  {
   "cell_type": "code",
   "execution_count": 183,
   "metadata": {},
   "outputs": [
    {
     "name": "stdout",
     "output_type": "stream",
     "text": [
      "[[0.98338425]\n",
      " [0.02628042]\n",
      " [0.02784676]\n",
      " [0.96708145]]\n"
     ]
    }
   ],
   "source": [
    "for _ in range(epochs):\n",
    "    #Feed forward\n",
    "    hidden_layer = sigmoid(np.dot(X,W1) + B1)\n",
    "    output = sigmoid(np.dot(hidden_layer,W2) + B2)\n",
    "    #Back propagation\n",
    "    err = y - output\n",
    "    d_output = err * d_sigmoid(output)\n",
    "    err_hidden_layer = d_output.dot(W2.T)\n",
    "    d_hidden_layer = err_hidden_layer * d_sigmoid(hidden_layer)\n",
    "    #Updating weight and bias values\n",
    "    W2 += hidden_layer.T.dot(d_output)*alpha\n",
    "    B2 += np.sum(d_output,axis=0,keepdims=True) * alpha\n",
    "    W1 += X.T.dot(d_hidden_layer)*alpha\n",
    "    B1 += np.sum(d_hidden_layer,axis=0,keepdims=True) * alpha\n",
    "    \n",
    "print(output)"
   ]
  },
  {
   "cell_type": "code",
   "execution_count": 184,
   "metadata": {},
   "outputs": [],
   "source": [
    "#Calculating the cost\n",
    "m = y.shape[0]\n",
    "total_cost = sum(np.square(output-y))/m"
   ]
  },
  {
   "cell_type": "code",
   "execution_count": 185,
   "metadata": {},
   "outputs": [
    {
     "name": "stdout",
     "output_type": "stream",
     "text": [
      "[0.00070645]\n"
     ]
    }
   ],
   "source": [
    "print(total_cost)"
   ]
  },
  {
   "cell_type": "code",
   "execution_count": 186,
   "metadata": {},
   "outputs": [
    {
     "name": "stdout",
     "output_type": "stream",
     "text": [
      "X1\tX2\tY\n",
      "0\t0\t[1.]\n",
      "0\t1\t[0.]\n",
      "1\t0\t[0.]\n",
      "1\t1\t[1.]\n"
     ]
    }
   ],
   "source": [
    "#Printing the boolean table after training and rounding off\n",
    "print(\"X1\\tX2\\tY\")\n",
    "toPrint = [\"{1}\\t{2}\\t{0}\".format(output, *datas) for datas, output in zip(X,np.round(output))]\n",
    "for i in toPrint:\n",
    "    print(i)"
   ]
  },
  {
   "cell_type": "code",
   "execution_count": null,
   "metadata": {},
   "outputs": [],
   "source": []
  }
 ],
 "metadata": {
  "kernelspec": {
   "display_name": "Python 3",
   "language": "python",
   "name": "python3"
  },
  "language_info": {
   "codemirror_mode": {
    "name": "ipython",
    "version": 3
   },
   "file_extension": ".py",
   "mimetype": "text/x-python",
   "name": "python",
   "nbconvert_exporter": "python",
   "pygments_lexer": "ipython3",
   "version": "3.7.6"
  }
 },
 "nbformat": 4,
 "nbformat_minor": 4
}
